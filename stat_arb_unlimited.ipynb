{
 "cells": [
  {
   "cell_type": "code",
   "execution_count": 11,
   "id": "c683c770-53ff-442e-aa6b-96b150110a9f",
   "metadata": {},
   "outputs": [],
   "source": [
    "import matplotlib.pyplot as plt\n",
    "import numpy as np\n",
    "import pandas as pd\n",
    "from itertools import combinations"
   ]
  },
  {
   "cell_type": "code",
   "execution_count": 13,
   "id": "61cec9d3-3777-4b2b-8d2d-8dd90904252d",
   "metadata": {},
   "outputs": [
    {
     "data": {
      "text/plain": [
       "array([[38.25, 38.11, 37.9 , ..., 36.58, 36.43, 36.24],\n",
       "       [69.06, 69.98, 69.56, ..., 50.8 , 51.19, 50.64],\n",
       "       [62.08, 62.39, 62.82, ..., 44.25, 44.02, 43.43],\n",
       "       ...,\n",
       "       [24.02, 24.04, 23.76, ..., 15.81, 15.75, 15.74],\n",
       "       [76.03, 76.05, 75.66, ..., 80.93, 80.8 , 80.5 ],\n",
       "       [27.5 , 27.54, 27.55, ..., 31.83, 31.78, 31.59]])"
      ]
     },
     "execution_count": 13,
     "metadata": {},
     "output_type": "execute_result"
    }
   ],
   "source": [
    "d= np.loadtxt('prices.txt', dtype=float)\n",
    "d= d.T\n",
    "d"
   ]
  },
  {
   "cell_type": "code",
   "execution_count": 15,
   "id": "63c1752c-3f79-4d8b-b002-6d770b70ee12",
   "metadata": {},
   "outputs": [],
   "source": [
    "returns = np.diff(np.log(d),axis = 1)"
   ]
  },
  {
   "cell_type": "code",
   "execution_count": 17,
   "id": "3fe42851-9339-4226-b123-64caf69ad37a",
   "metadata": {},
   "outputs": [],
   "source": [
    "cor_matrix = np.corrcoef(returns)"
   ]
  },
  {
   "cell_type": "code",
   "execution_count": 23,
   "id": "ed2524d9-cf78-41c4-9db0-30d4cf34dd03",
   "metadata": {},
   "outputs": [],
   "source": [
    "def find_most_correlated_groups(cor_matrix, min_size=3, max_size=5, top_n=10):\n",
    "    n = cor_matrix.shape[0]\n",
    "    group_scores = []\n",
    "\n",
    "    for size in range(min_size, max_size + 1):\n",
    "        print(f\"Checking groups of size {size} ...\")\n",
    "        for group in combinations(range(n), size):\n",
    "            sub_corr = cor_matrix[np.ix_(group, group)]\n",
    "            # Sum absolute off-diagonal correlations:\n",
    "            off_diag_sum = np.sum(np.abs(sub_corr)) - np.sum(np.abs(np.diag(sub_corr)))\n",
    "            group_scores.append((group, off_diag_sum))\n",
    "\n",
    "    # Sort by score descending\n",
    "    group_scores.sort(key=lambda x: x[1], reverse=True)\n",
    "\n",
    "    return group_scores[:top_n]\n"
   ]
  },
  {
   "cell_type": "code",
   "execution_count": 25,
   "id": "c23c3fd3-df4b-4f7e-a28e-d9834fc5aace",
   "metadata": {},
   "outputs": [
    {
     "name": "stdout",
     "output_type": "stream",
     "text": [
      "Checking groups of size 3 ...\n",
      "Checking groups of size 4 ...\n",
      "Checking groups of size 5 ...\n"
     ]
    },
    {
     "data": {
      "text/plain": [
       "[((7, 13, 17, 18, 38), 1.5607187235282538),\n",
       " ((7, 9, 13, 38, 39), 1.5571558253648492),\n",
       " ((7, 13, 18, 38, 44), 1.5384101378644912),\n",
       " ((7, 18, 38, 39, 44), 1.5166537433504015),\n",
       " ((7, 13, 18, 37, 38), 1.5118880090270173),\n",
       " ((13, 17, 18, 38, 44), 1.5007162342696745),\n",
       " ((7, 13, 18, 38, 39), 1.4991865209668465),\n",
       " ((7, 13, 18, 23, 38), 1.4937116600444984),\n",
       " ((7, 9, 38, 39, 49), 1.4871547571934425),\n",
       " ((7, 9, 13, 38, 44), 1.4787144704382325)]"
      ]
     },
     "execution_count": 25,
     "metadata": {},
     "output_type": "execute_result"
    }
   ],
   "source": [
    "top_groups=find_most_correlated_groups(cor_matrix)\n",
    "top_groups"
   ]
  },
  {
   "cell_type": "code",
   "execution_count": 27,
   "id": "cb4b92b2-9256-4be3-a13f-50cebe9a7457",
   "metadata": {},
   "outputs": [],
   "source": [
    "def compute_spread_zscore_group(prices):\n",
    "    \"\"\"\n",
    "    prices: list or array of shape (m, n_obs), where\n",
    "        m = number of stocks in group,\n",
    "        n_obs = number of time points (prices over time)\n",
    "    \n",
    "    Regress prices[0] on prices[1:], compute spread residual and z-score.\n",
    "    \"\"\"\n",
    "    prices = np.array(prices)\n",
    "    y = prices[0]                # target asset prices, shape (n_obs,)\n",
    "    X = prices[1:].T             # other assets, shape (n_obs, m-1)\n",
    "    \n",
    "    beta, _, _, _ = np.linalg.lstsq(X, y, rcond=None)\n",
    "    spread = y - X.dot(beta)\n",
    "    z = (spread - np.mean(spread)) / np.std(spread)\n",
    "    \n",
    "    return spread, z, beta\n",
    "\n",
    "def simulate_trades_group(z, entry=1.0, exit=0.0):\n",
    "    positions = np.zeros(len(z))\n",
    "    for t in range(1, len(z)):\n",
    "        if z[t-1] < -entry:\n",
    "            positions[t] = 1  # Long spread\n",
    "        elif z[t-1] > entry:\n",
    "            positions[t] = -1  # Short spread\n",
    "        elif abs(z[t-1]) < exit:\n",
    "            positions[t] = 0  # Exit position\n",
    "        else:\n",
    "            positions[t] = positions[t-1]  # Hold previous position\n",
    "    return positions\n",
    "\n",
    "def compute_pnl_group(positions, spread):\n",
    "    spread_diff = np.diff(spread)\n",
    "    pnl = positions[:-1] * spread_diff  # lag position by 1\n",
    "    return np.cumsum(pnl)\n"
   ]
  },
  {
   "cell_type": "code",
   "execution_count": 31,
   "id": "57df71b5-a681-4403-b4de-aa85e2684443",
   "metadata": {},
   "outputs": [
    {
     "data": {
      "text/plain": [
       "array([-0.        ,  0.46301833,  0.89877767,  0.80300109,  0.90763339,\n",
       "        1.0763643 ,  0.84426466,  0.66399286,  0.66384117,  0.37087464,\n",
       "        0.17937184,  0.4248656 ,  0.62959137,  0.42294697,  1.05246993,\n",
       "        0.76439344,  1.04875505,  0.59126433,  0.35187794,  0.13501965,\n",
       "        0.28600575,  0.77705429,  0.87233673,  1.20024653,  1.11736232,\n",
       "        1.32360082,  1.45186944,  1.36145491,  1.91561082,  2.20792457,\n",
       "        2.27414481,  2.17969855,  2.42666396,  2.51706029,  2.67135854,\n",
       "        3.52255019,  3.3292802 ,  3.20369078,  2.57304592,  2.18617279,\n",
       "        2.41019273,  2.44989647,  2.90589481,  2.99742398,  3.1829424 ,\n",
       "        3.28415219,  3.27830682,  3.42756233,  3.45427815,  3.25528081,\n",
       "        2.78155654,  2.93763948,  2.81936284,  3.16955282,  3.38190945,\n",
       "        3.04015963,  2.71972768,  3.01184595,  2.53829556,  2.06665584,\n",
       "        2.15031631,  1.85702652,  2.02414524,  2.3017406 ,  2.04619735,\n",
       "        1.86648186,  1.85633337,  1.89056117,  2.10746979,  1.84674625,\n",
       "        1.68296174,  1.89383416,  1.62918727,  1.57249988,  1.8225869 ,\n",
       "        1.98087196,  1.83641753,  1.79185901,  1.61605555,  1.36598835,\n",
       "        1.27761969,  1.60519932,  1.42772207,  1.62493658,  1.44142496,\n",
       "        1.44973958,  1.16041616,  1.43075458,  2.00448579,  1.82939083,\n",
       "        2.05502896,  2.09074443,  1.75495656,  1.52522943,  1.62210756,\n",
       "        1.96631141,  1.55942396,  1.56313186,  1.73360036,  1.52727089,\n",
       "        1.65714525,  1.2706915 ,  0.85073386,  0.59391976,  0.52361675,\n",
       "        0.57516115,  0.23456738,  0.1266274 ,  0.52471998,  0.65663016,\n",
       "        0.90079175,  0.57827092,  0.57388562,  0.52645919,  0.38205824,\n",
       "        0.43653727,  0.6727783 ,  0.94819609,  0.84777039,  0.93494974,\n",
       "        1.140668  ,  1.51382443,  1.48593977,  1.80343361,  1.77846029,\n",
       "        1.8176039 ,  1.73644166,  1.87816477,  2.06368952,  2.12582461,\n",
       "        2.23694326,  2.38733913,  2.94669828,  2.26704351,  1.96269431,\n",
       "        2.18324146,  2.03132115,  2.07638405,  2.55248733,  2.66381919,\n",
       "        2.47425839,  2.38265783,  2.43723496,  2.51911441,  2.40638381,\n",
       "        2.90016665,  2.66287177,  2.57233696,  3.12040889,  2.8684698 ,\n",
       "        3.24350886,  3.06997942,  3.0188878 ,  2.42662767,  2.50535037,\n",
       "        2.97187738,  2.66333539,  3.43293755,  3.69247103,  3.66136411,\n",
       "        4.09807307,  4.07300207,  4.16120891,  4.05674278,  4.14015718,\n",
       "        4.16465555,  3.77045679,  3.87103773,  3.54886901,  3.37785057,\n",
       "        3.21118282,  3.25922218,  3.15341062,  2.77198262,  2.77797217,\n",
       "        2.64454735,  3.15947217,  2.97744443,  3.18629614,  3.19936359,\n",
       "        3.00497884,  2.77206309,  3.47537726,  3.54810657,  3.95499071,\n",
       "        4.01344509,  4.35094092,  4.28178368,  4.16368917,  4.22968232,\n",
       "        4.19930188,  4.05803747,  3.6115721 ,  3.73284285,  3.8432104 ,\n",
       "        3.9339933 ,  3.76637671,  3.66952514,  3.38088797,  3.91886715,\n",
       "        3.7193337 ,  3.58739443,  4.32595129,  4.69972999,  4.27788219,\n",
       "        4.58306536,  4.71694398,  4.51109584,  4.34180817,  5.07715737,\n",
       "        5.08304256,  5.49011914,  5.40817442,  4.997591  ,  4.78983294,\n",
       "        4.94134224,  4.74853219,  4.75868765,  4.96817662,  4.8993579 ,\n",
       "        5.09796008,  4.39584214,  4.25163281,  4.54299513,  4.9385259 ,\n",
       "        5.21889656,  5.05184119,  4.73586689,  5.0502741 ,  5.34070237,\n",
       "        5.66794419,  6.14460964,  6.24496695,  6.29201679,  6.2985394 ,\n",
       "        6.25132253,  6.39682166,  6.19363277,  6.23121879,  6.40690758,\n",
       "        6.87097694,  6.83080496,  6.62746876,  6.50173032,  6.68790842,\n",
       "        6.00154244,  5.9454538 ,  5.85417265,  5.74408647,  5.93095287,\n",
       "        6.1524592 ,  6.35538806,  6.76590969,  6.63262998,  6.62420904,\n",
       "        6.31107064,  5.80346883,  5.95330618,  6.08312275,  6.73033452,\n",
       "        6.55011942,  6.08647137,  5.75817832,  5.53784416,  5.74003257,\n",
       "        5.51539197,  6.03331752,  5.97503008,  5.60904183,  5.68937626,\n",
       "        5.87893281,  5.41864288,  5.86445541,  6.07758457,  5.3992355 ,\n",
       "        5.70616795,  5.77461413,  5.70535404,  5.92070652,  5.45796161,\n",
       "        5.48773947,  5.5250131 ,  5.38683442,  5.34975738,  5.57657627,\n",
       "        5.50172305,  5.64499437,  5.65884444,  5.38056492,  5.13258223,\n",
       "        5.4927325 ,  5.45105448,  5.39407011,  5.50206554,  5.52094249,\n",
       "        5.81481002,  5.72207004,  5.97810029,  6.28571137,  5.84381839,\n",
       "        5.92699163,  5.85488394,  5.83886504,  5.8954282 ,  5.92631746,\n",
       "        5.7137718 ,  5.29650402,  5.04506818,  5.17167757,  5.32164749,\n",
       "        5.0004643 ,  5.13267259,  4.99881013,  4.62172674,  4.83975498,\n",
       "        5.32513033,  5.26027782,  5.01592908,  4.94048962,  4.96463759,\n",
       "        5.61722109,  5.36845251,  5.11979651,  5.22346603,  5.19423048,\n",
       "        5.20672892,  5.27592508,  5.40814383,  5.6227042 ,  6.03419408,\n",
       "        5.59463206,  6.1094972 ,  6.22884026,  6.12160126,  6.0030892 ,\n",
       "        6.08553087,  5.67077097,  5.45991494,  5.63415472,  5.62511918,\n",
       "        5.73814189,  5.6088447 ,  5.74912374,  5.46698636,  5.55661137,\n",
       "        5.75246896,  5.82013473,  5.5300742 ,  5.59370028,  5.5739568 ,\n",
       "        5.35422499,  5.53085277,  5.80721528,  5.94637667,  5.71946418,\n",
       "        5.99268646,  5.82454048,  5.78774606,  5.90985806,  6.14466694,\n",
       "        5.85546518,  6.14613286,  6.12105986,  6.11993456,  6.15657813,\n",
       "        5.69130622,  5.90656715,  6.05930213,  5.96362701,  6.29903629,\n",
       "        6.81245947,  7.31003128,  7.45634599,  7.19694325,  7.3772949 ,\n",
       "        7.29950339,  7.28317178,  7.16778603,  6.94300835,  7.65941647,\n",
       "        7.68901866,  7.32850938,  7.35812078,  7.84249377,  7.75928511,\n",
       "        7.54653163,  7.19599414,  7.64897025,  7.1884939 ,  6.72952573,\n",
       "        7.07703324,  7.09319624,  6.80178365,  7.21610189,  7.30708055,\n",
       "        7.16686531,  6.71478294,  6.48309208,  6.92446481,  6.78372931,\n",
       "        6.62440378,  6.65733912,  7.14261477,  7.10456236,  7.32853279,\n",
       "        7.59390555,  7.82753987,  7.64174361,  7.76373857,  7.78755971,\n",
       "        7.4951663 ,  7.7339245 ,  8.09414484,  7.80344101,  7.72819763,\n",
       "        7.76907679,  7.06569552,  7.01244519,  7.7368344 ,  7.90673689,\n",
       "        7.96514521,  8.02012423,  7.29239054,  7.54622633,  7.61554535,\n",
       "        7.79281637,  8.0417054 ,  7.85373069,  7.97589146,  8.14658651,\n",
       "        8.19106104,  8.28060556,  7.99131067,  7.70621476,  8.16015802,\n",
       "        8.47364918,  8.18720522,  8.25875155,  8.68098907,  9.12661647,\n",
       "        9.38487513,  9.2042433 ,  8.89170661,  8.46839354,  8.24471402,\n",
       "        8.33696423,  7.72569137,  7.73803982,  7.48644541,  7.3943182 ,\n",
       "        6.94106237,  6.8151502 ,  6.97069854,  7.0848094 ,  7.18596944,\n",
       "        7.37439814,  7.73130618,  8.11677796,  8.53639833,  8.09049467,\n",
       "        7.95309862,  8.13006985,  8.4287672 ,  7.99452317,  8.38968878,\n",
       "        8.18385062,  8.500055  ,  8.88199571,  8.74706586,  8.75581212,\n",
       "        8.42160255,  8.43271459,  8.58840612,  8.88022048,  9.20802622,\n",
       "        9.06175605,  9.15622649,  9.63843735,  9.46449395,  9.45737587,\n",
       "        9.75205012,  9.65153812,  9.81282908,  9.73903629,  9.6041133 ,\n",
       "        9.56741856,  9.49152536,  9.45164501,  9.98132165, 10.03273696,\n",
       "       10.01504601,  9.98060509, 10.15569158,  9.7772362 ,  9.87842577,\n",
       "       10.04237655,  9.64075469,  9.44321387,  9.56025726,  9.33896662,\n",
       "        9.40936505,  9.62455738,  9.562259  ,  9.6993408 ,  9.5365487 ,\n",
       "        9.40444984,  9.2448724 ,  9.23485248,  9.50827731,  9.32224194,\n",
       "        8.66196803,  8.32995375,  8.40468182,  8.52433693,  8.35268844,\n",
       "        8.65660696,  8.94288749,  9.62718614,  9.45814143,  9.51574139,\n",
       "        9.42606894,  9.71950079,  9.87179   ,  9.42172058,  9.54762985,\n",
       "        9.64018786,  9.51220515,  9.48243454,  9.70626315, 10.03804395,\n",
       "        9.98798113, 10.11225305,  9.79399146,  9.53502418,  9.2426076 ,\n",
       "        9.58974209,  9.7238853 ,  9.43877916,  9.44032423,  9.60589431,\n",
       "        9.82873353,  9.75746369,  9.99034685, 10.2465486 , 10.00586013,\n",
       "        9.8360831 ,  9.28095974,  9.13876558,  9.77511874,  9.53750556,\n",
       "       10.06904347,  9.92242439,  9.74392237,  9.42065537,  9.13068062,\n",
       "        9.81334276,  9.72372695,  9.41585929,  9.87929952,  9.85269212,\n",
       "        9.87221966,  9.61833965,  9.33789252,  9.11012112,  9.31605628,\n",
       "        9.21031104,  9.12717119,  9.23767725,  9.25409296,  9.39518728,\n",
       "        9.51153993,  9.39949389,  9.6039445 ,  9.76104844,  9.83083882,\n",
       "        9.66361971,  9.35595225,  9.6791393 ,  9.41197572,  9.30768669,\n",
       "        9.42691123,  9.26763114,  9.4052668 ,  9.74358698, 10.04203024,\n",
       "        9.74133521,  9.87686699,  9.77812549, 10.07919761,  9.84957855,\n",
       "        9.92137894, 10.13284966,  9.83338689, 10.10706893,  9.82977798,\n",
       "        9.85572689,  9.85091178,  9.53830613,  9.63066642,  9.85573877,\n",
       "        9.33638345,  9.77837741,  9.99098619, 10.42068829, 10.75300629,\n",
       "       10.77858754, 10.78475885, 10.82697916, 10.94298827, 11.43354082,\n",
       "       11.57460423, 11.60301704, 12.03106639, 11.9139852 , 12.20595026,\n",
       "       12.4916535 , 12.67390095, 12.87361475, 13.44616727, 13.34637235,\n",
       "       13.40247746, 13.68126172, 13.50911497, 13.59140414, 13.66692831,\n",
       "       13.33467941, 12.79589656, 13.19380188, 13.5809544 , 13.56547065,\n",
       "       13.55869577, 13.63070471, 13.37335529, 13.57842666, 13.661286  ,\n",
       "       13.87958543, 13.9770561 , 14.07781899, 13.48616567, 13.54225968,\n",
       "       13.33580762, 13.02910426, 13.20630692, 13.63654158, 13.49406286,\n",
       "       13.75578483, 13.6510362 , 13.69149939, 14.15116077, 13.88100386,\n",
       "       14.25214105, 14.4064104 , 14.43908636, 14.02599178, 13.73200157,\n",
       "       13.64892595, 13.97675802, 13.97359655, 14.28623898, 14.23295139,\n",
       "       13.7634987 , 13.41245062, 13.4176638 , 13.27171481, 13.35148491,\n",
       "       13.63203729, 13.785209  , 13.18283235, 13.21300122, 12.88261687,\n",
       "       13.18714568, 12.8059958 , 13.03458797, 13.37510753, 14.10659617,\n",
       "       14.41441344, 14.26564163, 14.17071394, 13.91997309, 14.14777905,\n",
       "       14.44368977, 14.49990383, 14.51460215, 14.21683469, 14.13369215,\n",
       "       14.25378454, 14.7458508 , 14.62890934, 14.51038321, 14.3955978 ,\n",
       "       14.03130631, 13.76271862, 13.53567499, 13.29745492, 12.90634368,\n",
       "       13.01310479, 13.09122275, 13.07391319, 13.19763667, 13.17565412,\n",
       "       13.18094122, 12.3601108 , 11.91519939, 11.59867085, 11.91164232,\n",
       "       12.38853615, 12.01463332, 12.05720268, 12.1359353 , 11.76257658,\n",
       "       11.40902356, 11.52213966, 11.45321066, 11.22993225, 10.94525317,\n",
       "       11.40040578, 11.387353  , 11.17714268, 11.12647756, 10.84635848,\n",
       "       10.92124951, 11.27028645, 11.35248172, 11.23117184, 11.28135735,\n",
       "       11.12686782, 11.09915303, 10.77676976, 10.75706536, 10.71194693,\n",
       "       10.5372162 , 10.1020655 ,  9.93467871,  9.849926  , 10.04235159,\n",
       "       10.27292469, 10.42060096, 10.37531266, 10.71506234, 10.91836509,\n",
       "       10.97079258, 10.95053029, 10.98227457, 11.24282458, 11.22388716,\n",
       "       11.18030102, 10.87433499, 10.45131777, 10.67784642])"
      ]
     },
     "execution_count": 31,
     "metadata": {},
     "output_type": "execute_result"
    }
   ],
   "source": [
    "# Suppose data shape = (n_assets, n_days)\n",
    "# Select group indices for group size m\n",
    "group_indices = [0, 2, 5, 7]  # for example 4 stocks\n",
    "\n",
    "group_prices = [d[i] for i in group_indices]  # list of arrays\n",
    "\n",
    "spread, z, beta = compute_spread_zscore_group(group_prices)\n",
    "positions = simulate_trades_group(z, entry=1.0, exit=0.0)\n",
    "pnl = compute_pnl_group(positions, spread)\n",
    "pnl"
   ]
  },
  {
   "cell_type": "code",
   "execution_count": 39,
   "id": "a3d1edd0-14eb-44aa-90df-84e7d27b3328",
   "metadata": {},
   "outputs": [
    {
     "data": {
      "image/png": "[encoded data removed]",
      "text/plain": [
       "<Figure size 640x480 with 1 Axes>"
      ]
     },
     "metadata": {},
     "output_type": "display_data"
    }
   ],
   "source": [
    "overall_pnl = None\n",
    "for a in range(9):  # Or len(top_pairs)\n",
    "    group_indices = top_groups[a][0]\n",
    "    group_prices = [d[i] for i in group_indices]\n",
    "    \n",
    "\n",
    "\n",
    "\n",
    "    spread, z, beta = compute_spread_zscore_group(group_prices)\n",
    "    positions = simulate_trades_group(z, entry=1.0, exit=0.0)\n",
    "    pnl = compute_pnl_group(positions, spread)\n",
    "\n",
    "    # Pad pnl to the same length if needed\n",
    "    pnl = np.pad(pnl, (0, d.shape[1] - 1 - len(pnl)), constant_values=0)\n",
    "\n",
    "    if overall_pnl is None:\n",
    "        overall_pnl = pnl\n",
    "    else:\n",
    "        overall_pnl += pnl  # aggregate all pnls into one\n",
    "\n",
    "# Plot the overall portfolio PnL\n",
    "plt.plot(overall_pnl)\n",
    "plt.title(\"Overall Portfolio Cumulative PnL\")\n",
    "plt.xlabel(\"Time\")\n",
    "plt.ylabel(\"PnL\")\n",
    "plt.grid(True)\n",
    "plt.show()"
   ]
  },
  {
   "cell_type": "code",
   "execution_count": 41,
   "id": "c3134d06-916e-43a2-99fc-a3b40d72f6f6",
   "metadata": {},
   "outputs": [
    {
     "name": "stdout",
     "output_type": "stream",
     "text": [
      "Total PnL: 358.09\n",
      "Average Daily Return: 0.4787\n",
      "Volatility: 4.1988\n",
      "Sharpe Ratio: 1.81\n",
      "Max Drawdown: 51.11\n",
      "Final score: 0.058852402285316574\n"
     ]
    }
   ],
   "source": [
    "def analyze_pnl(pnl):\n",
    "    returns = np.diff(pnl)\n",
    "    avg_daily_return = np.mean(returns)\n",
    "    volatility = np.std(returns)\n",
    "    sharpe_ratio = avg_daily_return / volatility * np.sqrt(252)  # assume 252 trading days\n",
    "    max_drawdown = np.max(np.maximum.accumulate(pnl) - pnl)\n",
    "\n",
    "    print(f\"Total PnL: {pnl[-1]:.2f}\")\n",
    "    print(f\"Average Daily Return: {avg_daily_return:.4f}\")\n",
    "    print(f\"Volatility: {volatility:.4f}\")\n",
    "    print(f\"Sharpe Ratio: {sharpe_ratio:.2f}\")\n",
    "    print(f\"Max Drawdown: {max_drawdown:.2f}\")\n",
    "    print(f\"Final score: {avg_daily_return-0.1*volatility}\")\n",
    "\n",
    "analyze_pnl(overall_pnl)"
   ]
  },
  {
   "cell_type": "code",
   "execution_count": null,
   "id": "27918a71-97ac-4617-bbc9-34765bd1dcb9",
   "metadata": {},
   "outputs": [],
   "source": []
  }
 ],
 "metadata": {
  "kernelspec": {
   "display_name": "Python 3 (ipykernel)",
   "language": "python",
   "name": "python3"
  },
  "language_info": {
   "codemirror_mode": {
    "name": "ipython",
    "version": 3
   },
   "file_extension": ".py",
   "mimetype": "text/x-python",
   "name": "python",
   "nbconvert_exporter": "python",
   "pygments_lexer": "ipython3",
   "version": "3.11.7"
  }
 },
 "nbformat": 4,
 "nbformat_minor": 5
}
