{
 "cells": [
  {
   "cell_type": "code",
   "execution_count": 3,
   "id": "9d0b7d55-0765-48dd-a4c4-50a7d3212743",
   "metadata": {},
   "outputs": [],
   "source": [
    "import matplotlib.pyplot as plt\n",
    "import numpy as np\n",
    "import pandas as pd\n",
    "from itertools import combinations"
   ]
  },
  {
   "cell_type": "code",
   "execution_count": 9,
   "id": "f940edbd-1984-4ada-be52-0578317fe9c6",
   "metadata": {},
   "outputs": [
    {
     "data": {
      "text/plain": [
       "array([[38.25, 38.11, 37.9 , ..., 36.58, 36.43, 36.24],\n",
       "       [69.06, 69.98, 69.56, ..., 50.8 , 51.19, 50.64],\n",
       "       [62.08, 62.39, 62.82, ..., 44.25, 44.02, 43.43],\n",
       "       ...,\n",
       "       [24.02, 24.04, 23.76, ..., 15.81, 15.75, 15.74],\n",
       "       [76.03, 76.05, 75.66, ..., 80.93, 80.8 , 80.5 ],\n",
       "       [27.5 , 27.54, 27.55, ..., 31.83, 31.78, 31.59]])"
      ]
     },
     "execution_count": 9,
     "metadata": {},
     "output_type": "execute_result"
    }
   ],
   "source": [
    "d= np.loadtxt('prices.txt', dtype=float)\n",
    "d= d.T\n",
    "d"
   ]
  },
  {
   "cell_type": "code",
   "execution_count": 11,
   "id": "3c32e3c9-a6e3-4a30-8683-d1b100508bfb",
   "metadata": {},
   "outputs": [],
   "source": [
    "returns = np.diff(np.log(d),axis = 1)"
   ]
  },
  {
   "cell_type": "code",
   "execution_count": 13,
   "id": "fc9aaf31-6394-4ef3-b503-c3fe4ca9d333",
   "metadata": {},
   "outputs": [
    {
     "data": {
      "text/plain": [
       "array([[1.        , 0.05073346, 0.12795815],\n",
       "       [0.05073346, 1.        , 0.11477601],\n",
       "       [0.12795815, 0.11477601, 1.        ]])"
      ]
     },
     "execution_count": 13,
     "metadata": {},
     "output_type": "execute_result"
    }
   ],
   "source": [
    "selected_indices = [18, 7, 38]\n",
    "selected_returns = returns[selected_indices, :]\n",
    "cor_matrix_3 = np.corrcoef(selected_returns)\n",
    "cor_matrix_3"
   ]
  },
  {
   "cell_type": "code",
   "execution_count": 15,
   "id": "16ae1577-5f9a-43ca-b390-dcf2ea85e511",
   "metadata": {},
   "outputs": [
    {
     "data": {
      "text/plain": [
       "0.9693694927164949"
      ]
     },
     "execution_count": 15,
     "metadata": {},
     "output_type": "execute_result"
    }
   ],
   "source": [
    "np.linalg.det(cor_matrix_3)"
   ]
  },
  {
   "cell_type": "code",
   "execution_count": 17,
   "id": "961fbbe3-ec4c-4fc6-80a5-3e94cc8083e9",
   "metadata": {},
   "outputs": [],
   "source": [
    "cor_matrix = np.corrcoef(returns)"
   ]
  },
  {
   "cell_type": "code",
   "execution_count": null,
   "id": "75d19e4f-6e49-484f-a773-f57804b28795",
   "metadata": {},
   "outputs": [],
   "source": [
    "cor_matrix"
   ]
  },
  {
   "cell_type": "code",
   "execution_count": null,
   "id": "1513dadc-3520-4357-a75f-49a2495085a3",
   "metadata": {},
   "outputs": [],
   "source": [
    "def find_top_10_asset_triplets(cor_matrix, top_n=10):\n",
    "    n = cor_matrix.shape[0]\n",
    "    triplet_scores = []\n",
    "\n",
    "    # Iterate over all possible 3-asset combinations\n",
    "    for triplet in combinations(range(n), 3):\n",
    "        sub_corr = cor_matrix[np.ix_(triplet, triplet)]\n",
    "        off_diag_sum = np.sum(np.abs(sub_corr)) - np.sum(np.abs(np.diag(sub_corr)))\n",
    "        triplet_scores.append((triplet, off_diag_sum))\n",
    "\n",
    "    # Sort triplets by descending off-diagonal sum\n",
    "    triplet_scores.sort(key=lambda x: x[1], reverse=True)\n",
    "\n",
    "    # Return top_n triplets and their scores\n",
    "    return triplet_scores[:top_n]\n",
    "\n",
    "\n",
    "top_trips=find_top_10_asset_triplets(cor_matrix)\n",
    "top_trips"
   ]
  },
  {
   "cell_type": "code",
   "execution_count": null,
   "id": "ea78b913-db02-4ca7-a54c-664aec526ea1",
   "metadata": {},
   "outputs": [],
   "source": [
    "def compute_spread_zscore_3assets(p1, p2, p3):\n",
    "    # Regress p1 on p2 and p3: p1 = beta1 * p2 + beta2 * p3 + error\n",
    "    X = np.vstack([p2, p3]).T  # shape (n_samples, 2)\n",
    "    y = p1\n",
    "    beta, _, _, _ = np.linalg.lstsq(X, y, rcond=None)\n",
    "    spread = y - X.dot(beta)\n",
    "    z = (spread - np.mean(spread)) / np.std(spread)\n",
    "    return spread, z, beta\n",
    "\n",
    "def simulate_trades_3assets(z, entry=1.0, exit=0.0):\n",
    "    positions = np.zeros(len(z))\n",
    "    for t in range(1, len(z)):\n",
    "        if z[t-1] < -entry:\n",
    "            positions[t] = 1  # Long spread\n",
    "        elif z[t-1] > entry:\n",
    "            positions[t] = -1  # Short spread\n",
    "        elif abs(z[t-1]) < exit:\n",
    "            positions[t] = 0  # Exit position\n",
    "        else:\n",
    "            positions[t] = positions[t-1]  # Hold previous position\n",
    "    return positions\n",
    "\n",
    "def compute_pnl_3assets(positions, spread):\n",
    "    spread_diff = np.diff(spread)\n",
    "    pnl = positions[:-1] * spread_diff  # lag position by 1\n",
    "    return np.cumsum(pnl)"
   ]
  }
 ],
 "metadata": {
  "kernelspec": {
   "display_name": "Python 3 (ipykernel)",
   "language": "python",
   "name": "python3"
  },
  "language_info": {
   "codemirror_mode": {
    "name": "ipython",
    "version": 3
   },
   "file_extension": ".py",
   "mimetype": "text/x-python",
   "name": "python",
   "nbconvert_exporter": "python",
   "pygments_lexer": "ipython3",
   "version": "3.11.7"
  }
 },
 "nbformat": 4,
 "nbformat_minor": 5
}
